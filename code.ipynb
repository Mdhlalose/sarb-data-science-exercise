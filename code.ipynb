{
 "cells": [
  {
   "cell_type": "markdown",
   "metadata": {},
   "source": [
    "# Test for ESD Data Science Graduate Programme Candidates"
   ]
  },
  {
   "cell_type": "markdown",
   "metadata": {},
   "source": [
    "# I. Table of Contents"
   ]
  },
  {
   "cell_type": "markdown",
   "metadata": {},
   "source": [
    "# II. Introduction"
   ]
  },
  {
   "cell_type": "markdown",
   "metadata": {},
   "source": [
    "# III. Project Objective"
   ]
  },
  {
   "cell_type": "markdown",
   "metadata": {},
   "source": [
    "# 1. Imports"
   ]
  },
  {
   "cell_type": "code",
   "execution_count": 217,
   "metadata": {},
   "outputs": [],
   "source": [
    "import pandas as pd\n",
    "import seaborn as sns\n",
    "import matplotlib.pyplot as plt\n",
    "import warnings\n",
    "warnings.filterwarnings('ignore')\n",
    "from ydata_profiling import ProfileReport\n",
    "import numpy as np\n",
    "from sklearn.ensemble import IsolationForest\n",
    "from sklearn.preprocessing import StandardScaler\n"
   ]
  },
  {
   "cell_type": "code",
   "execution_count": 218,
   "metadata": {},
   "outputs": [],
   "source": [
    "df = pd.read_csv(r'C:\\Users\\mdhla\\OneDrive\\Documents\\Postgraduate\\MSc\\SARB\\sarb-data-science-exercise\\data\\data.csv')"
   ]
  },
  {
   "cell_type": "markdown",
   "metadata": {},
   "source": [
    "# 2. Data Exploratory Analysis "
   ]
  },
  {
   "cell_type": "code",
   "execution_count": 219,
   "metadata": {},
   "outputs": [
    {
     "data": {
      "text/html": [
       "<div>\n",
       "<style scoped>\n",
       "    .dataframe tbody tr th:only-of-type {\n",
       "        vertical-align: middle;\n",
       "    }\n",
       "\n",
       "    .dataframe tbody tr th {\n",
       "        vertical-align: top;\n",
       "    }\n",
       "\n",
       "    .dataframe thead th {\n",
       "        text-align: right;\n",
       "    }\n",
       "</style>\n",
       "<table border=\"1\" class=\"dataframe\">\n",
       "  <thead>\n",
       "    <tr style=\"text-align: right;\">\n",
       "      <th></th>\n",
       "      <th>Date</th>\n",
       "      <th>GDP</th>\n",
       "      <th>GFCF</th>\n",
       "      <th>UNEM</th>\n",
       "      <th>ConsumerPrices</th>\n",
       "      <th>GovExp</th>\n",
       "      <th>HouseExp</th>\n",
       "    </tr>\n",
       "  </thead>\n",
       "  <tbody>\n",
       "    <tr>\n",
       "      <th>0</th>\n",
       "      <td>1994-03-31</td>\n",
       "      <td>2347597.0</td>\n",
       "      <td>274432.0</td>\n",
       "      <td>20.0</td>\n",
       "      <td>25.666667</td>\n",
       "      <td>505201.0</td>\n",
       "      <td>1341416.0</td>\n",
       "    </tr>\n",
       "    <tr>\n",
       "      <th>1</th>\n",
       "      <td>1994-06-30</td>\n",
       "      <td>2370502.0</td>\n",
       "      <td>280433.0</td>\n",
       "      <td>20.0</td>\n",
       "      <td>26.000000</td>\n",
       "      <td>505206.0</td>\n",
       "      <td>1354509.0</td>\n",
       "    </tr>\n",
       "    <tr>\n",
       "      <th>2</th>\n",
       "      <td>1994-09-30</td>\n",
       "      <td>2397159.0</td>\n",
       "      <td>288152.0</td>\n",
       "      <td>20.0</td>\n",
       "      <td>27.000000</td>\n",
       "      <td>502942.0</td>\n",
       "      <td>1368367.0</td>\n",
       "    </tr>\n",
       "    <tr>\n",
       "      <th>3</th>\n",
       "      <td>1994-12-31</td>\n",
       "      <td>2441705.0</td>\n",
       "      <td>299025.0</td>\n",
       "      <td>20.0</td>\n",
       "      <td>27.333333</td>\n",
       "      <td>497292.0</td>\n",
       "      <td>1385567.0</td>\n",
       "    </tr>\n",
       "    <tr>\n",
       "      <th>4</th>\n",
       "      <td>1995-03-31</td>\n",
       "      <td>2447808.0</td>\n",
       "      <td>305911.0</td>\n",
       "      <td>17.0</td>\n",
       "      <td>28.000000</td>\n",
       "      <td>484801.0</td>\n",
       "      <td>1415147.0</td>\n",
       "    </tr>\n",
       "  </tbody>\n",
       "</table>\n",
       "</div>"
      ],
      "text/plain": [
       "         Date        GDP      GFCF  UNEM  ConsumerPrices    GovExp   HouseExp\n",
       "0  1994-03-31  2347597.0  274432.0  20.0       25.666667  505201.0  1341416.0\n",
       "1  1994-06-30  2370502.0  280433.0  20.0       26.000000  505206.0  1354509.0\n",
       "2  1994-09-30  2397159.0  288152.0  20.0       27.000000  502942.0  1368367.0\n",
       "3  1994-12-31  2441705.0  299025.0  20.0       27.333333  497292.0  1385567.0\n",
       "4  1995-03-31  2447808.0  305911.0  17.0       28.000000  484801.0  1415147.0"
      ]
     },
     "execution_count": 219,
     "metadata": {},
     "output_type": "execute_result"
    }
   ],
   "source": [
    "df.head()"
   ]
  },
  {
   "cell_type": "code",
   "execution_count": 220,
   "metadata": {},
   "outputs": [
    {
     "data": {
      "text/html": [
       "<div>\n",
       "<style scoped>\n",
       "    .dataframe tbody tr th:only-of-type {\n",
       "        vertical-align: middle;\n",
       "    }\n",
       "\n",
       "    .dataframe tbody tr th {\n",
       "        vertical-align: top;\n",
       "    }\n",
       "\n",
       "    .dataframe thead th {\n",
       "        text-align: right;\n",
       "    }\n",
       "</style>\n",
       "<table border=\"1\" class=\"dataframe\">\n",
       "  <thead>\n",
       "    <tr style=\"text-align: right;\">\n",
       "      <th></th>\n",
       "      <th>Date</th>\n",
       "      <th>GDP</th>\n",
       "      <th>GFCF</th>\n",
       "      <th>UNEM</th>\n",
       "      <th>ConsumerPrices</th>\n",
       "      <th>GovExp</th>\n",
       "      <th>HouseExp</th>\n",
       "    </tr>\n",
       "  </thead>\n",
       "  <tbody>\n",
       "    <tr>\n",
       "      <th>116</th>\n",
       "      <td>2023-03-31</td>\n",
       "      <td>4614117.0</td>\n",
       "      <td>681444.0</td>\n",
       "      <td>33.0</td>\n",
       "      <td>108.000000</td>\n",
       "      <td>902634.0</td>\n",
       "      <td>3099111.0</td>\n",
       "    </tr>\n",
       "    <tr>\n",
       "      <th>117</th>\n",
       "      <td>2023-06-30</td>\n",
       "      <td>4645950.0</td>\n",
       "      <td>709479.0</td>\n",
       "      <td>33.0</td>\n",
       "      <td>109.666667</td>\n",
       "      <td>91656800.0</td>\n",
       "      <td>3100030.0</td>\n",
       "    </tr>\n",
       "    <tr>\n",
       "      <th>118</th>\n",
       "      <td>2023-09-30</td>\n",
       "      <td>4626804.0</td>\n",
       "      <td>676467.0</td>\n",
       "      <td>32.0</td>\n",
       "      <td>111.333333</td>\n",
       "      <td>921594.0</td>\n",
       "      <td>3095099.0</td>\n",
       "    </tr>\n",
       "    <tr>\n",
       "      <th>119</th>\n",
       "      <td>2023-12-31</td>\n",
       "      <td>4642859.0</td>\n",
       "      <td>674911.0</td>\n",
       "      <td>32.0</td>\n",
       "      <td>113.000000</td>\n",
       "      <td>918141.0</td>\n",
       "      <td>3096942.0</td>\n",
       "    </tr>\n",
       "    <tr>\n",
       "      <th>120</th>\n",
       "      <td>2024-03-31</td>\n",
       "      <td>4640222.0</td>\n",
       "      <td>662569.0</td>\n",
       "      <td>33.0</td>\n",
       "      <td>114.000000</td>\n",
       "      <td>915797.0</td>\n",
       "      <td>3087562.0</td>\n",
       "    </tr>\n",
       "  </tbody>\n",
       "</table>\n",
       "</div>"
      ],
      "text/plain": [
       "           Date        GDP      GFCF  UNEM  ConsumerPrices      GovExp  \\\n",
       "116  2023-03-31  4614117.0  681444.0  33.0      108.000000    902634.0   \n",
       "117  2023-06-30  4645950.0  709479.0  33.0      109.666667  91656800.0   \n",
       "118  2023-09-30  4626804.0  676467.0  32.0      111.333333    921594.0   \n",
       "119  2023-12-31  4642859.0  674911.0  32.0      113.000000    918141.0   \n",
       "120  2024-03-31  4640222.0  662569.0  33.0      114.000000    915797.0   \n",
       "\n",
       "      HouseExp  \n",
       "116  3099111.0  \n",
       "117  3100030.0  \n",
       "118  3095099.0  \n",
       "119  3096942.0  \n",
       "120  3087562.0  "
      ]
     },
     "execution_count": 220,
     "metadata": {},
     "output_type": "execute_result"
    }
   ],
   "source": [
    "df.tail()"
   ]
  },
  {
   "cell_type": "code",
   "execution_count": 221,
   "metadata": {},
   "outputs": [
    {
     "name": "stdout",
     "output_type": "stream",
     "text": [
      "<class 'pandas.core.frame.DataFrame'>\n",
      "RangeIndex: 121 entries, 0 to 120\n",
      "Data columns (total 7 columns):\n",
      " #   Column          Non-Null Count  Dtype  \n",
      "---  ------          --------------  -----  \n",
      " 0   Date            121 non-null    object \n",
      " 1   GDP             120 non-null    float64\n",
      " 2   GFCF            120 non-null    float64\n",
      " 3   UNEM            120 non-null    float64\n",
      " 4   ConsumerPrices  120 non-null    float64\n",
      " 5   GovExp          120 non-null    float64\n",
      " 6   HouseExp        120 non-null    float64\n",
      "dtypes: float64(6), object(1)\n",
      "memory usage: 6.7+ KB\n"
     ]
    }
   ],
   "source": [
    "df.info()"
   ]
  },
  {
   "cell_type": "code",
   "execution_count": 222,
   "metadata": {},
   "outputs": [
    {
     "data": {
      "text/html": [
       "<div>\n",
       "<style scoped>\n",
       "    .dataframe tbody tr th:only-of-type {\n",
       "        vertical-align: middle;\n",
       "    }\n",
       "\n",
       "    .dataframe tbody tr th {\n",
       "        vertical-align: top;\n",
       "    }\n",
       "\n",
       "    .dataframe thead th {\n",
       "        text-align: right;\n",
       "    }\n",
       "</style>\n",
       "<table border=\"1\" class=\"dataframe\">\n",
       "  <thead>\n",
       "    <tr style=\"text-align: right;\">\n",
       "      <th></th>\n",
       "      <th>count</th>\n",
       "      <th>mean</th>\n",
       "      <th>std</th>\n",
       "      <th>min</th>\n",
       "      <th>25%</th>\n",
       "      <th>50%</th>\n",
       "      <th>75%</th>\n",
       "      <th>max</th>\n",
       "    </tr>\n",
       "  </thead>\n",
       "  <tbody>\n",
       "    <tr>\n",
       "      <th>GDP</th>\n",
       "      <td>120.0</td>\n",
       "      <td>6.688985e+06</td>\n",
       "      <td>3.278402e+07</td>\n",
       "      <td>2.347597e+06</td>\n",
       "      <td>2902988.25</td>\n",
       "      <td>3.899362e+06</td>\n",
       "      <td>4.450160e+06</td>\n",
       "      <td>362727300.0</td>\n",
       "    </tr>\n",
       "    <tr>\n",
       "      <th>GFCF</th>\n",
       "      <td>120.0</td>\n",
       "      <td>1.208034e+06</td>\n",
       "      <td>6.811389e+06</td>\n",
       "      <td>2.744320e+05</td>\n",
       "      <td>380164.75</td>\n",
       "      <td>6.525295e+05</td>\n",
       "      <td>7.548502e+05</td>\n",
       "      <td>75176200.0</td>\n",
       "    </tr>\n",
       "    <tr>\n",
       "      <th>UNEM</th>\n",
       "      <td>120.0</td>\n",
       "      <td>5.103333e+01</td>\n",
       "      <td>2.806991e+02</td>\n",
       "      <td>1.700000e+01</td>\n",
       "      <td>23.00</td>\n",
       "      <td>2.500000e+01</td>\n",
       "      <td>2.725000e+01</td>\n",
       "      <td>3100.0</td>\n",
       "    </tr>\n",
       "    <tr>\n",
       "      <th>ConsumerPrices</th>\n",
       "      <td>120.0</td>\n",
       "      <td>1.241222e+02</td>\n",
       "      <td>6.793871e+02</td>\n",
       "      <td>2.566667e+01</td>\n",
       "      <td>42.25</td>\n",
       "      <td>5.916667e+01</td>\n",
       "      <td>8.066667e+01</td>\n",
       "      <td>7500.0</td>\n",
       "    </tr>\n",
       "    <tr>\n",
       "      <th>GovExp</th>\n",
       "      <td>120.0</td>\n",
       "      <td>1.458945e+06</td>\n",
       "      <td>8.304558e+06</td>\n",
       "      <td>4.649380e+05</td>\n",
       "      <td>528066.50</td>\n",
       "      <td>7.368300e+05</td>\n",
       "      <td>8.531228e+05</td>\n",
       "      <td>91656800.0</td>\n",
       "    </tr>\n",
       "    <tr>\n",
       "      <th>HouseExp</th>\n",
       "      <td>120.0</td>\n",
       "      <td>4.670058e+06</td>\n",
       "      <td>2.573719e+07</td>\n",
       "      <td>1.341416e+06</td>\n",
       "      <td>1739040.50</td>\n",
       "      <td>2.438482e+06</td>\n",
       "      <td>2.834947e+06</td>\n",
       "      <td>284187900.0</td>\n",
       "    </tr>\n",
       "  </tbody>\n",
       "</table>\n",
       "</div>"
      ],
      "text/plain": [
       "                count          mean           std           min         25%  \\\n",
       "GDP             120.0  6.688985e+06  3.278402e+07  2.347597e+06  2902988.25   \n",
       "GFCF            120.0  1.208034e+06  6.811389e+06  2.744320e+05   380164.75   \n",
       "UNEM            120.0  5.103333e+01  2.806991e+02  1.700000e+01       23.00   \n",
       "ConsumerPrices  120.0  1.241222e+02  6.793871e+02  2.566667e+01       42.25   \n",
       "GovExp          120.0  1.458945e+06  8.304558e+06  4.649380e+05   528066.50   \n",
       "HouseExp        120.0  4.670058e+06  2.573719e+07  1.341416e+06  1739040.50   \n",
       "\n",
       "                         50%           75%          max  \n",
       "GDP             3.899362e+06  4.450160e+06  362727300.0  \n",
       "GFCF            6.525295e+05  7.548502e+05   75176200.0  \n",
       "UNEM            2.500000e+01  2.725000e+01       3100.0  \n",
       "ConsumerPrices  5.916667e+01  8.066667e+01       7500.0  \n",
       "GovExp          7.368300e+05  8.531228e+05   91656800.0  \n",
       "HouseExp        2.438482e+06  2.834947e+06  284187900.0  "
      ]
     },
     "execution_count": 222,
     "metadata": {},
     "output_type": "execute_result"
    }
   ],
   "source": [
    "df.describe().T"
   ]
  },
  {
   "cell_type": "code",
   "execution_count": 223,
   "metadata": {},
   "outputs": [
    {
     "name": "stdout",
     "output_type": "stream",
     "text": [
      "The number of duplicated rows is: 0\n"
     ]
    }
   ],
   "source": [
    "print(f'The number of duplicated rows is: {sum(df.duplicated())}')"
   ]
  },
  {
   "cell_type": "code",
   "execution_count": 224,
   "metadata": {},
   "outputs": [
    {
     "data": {
      "text/plain": [
       "<Axes: >"
      ]
     },
     "execution_count": 224,
     "metadata": {},
     "output_type": "execute_result"
    },
    {
     "data": {
      "image/png": "[encoded data removed]",
      "text/plain": [
       "<Figure size 640x480 with 1 Axes>"
      ]
     },
     "metadata": {},
     "output_type": "display_data"
    }
   ],
   "source": [
    "dark_blue = '#003366'\n",
    "dark_grey = '#4d4d4d'\n",
    "\n",
    "\n",
    "custom_cmap = sns.color_palette([dark_blue, dark_grey])\n",
    "sns.heatmap(df.isnull(), yticklabels=False, cbar=False, cmap=custom_cmap)"
   ]
  },
  {
   "cell_type": "markdown",
   "metadata": {},
   "source": [
    "## Data Cleaning"
   ]
  },
  {
   "cell_type": "markdown",
   "metadata": {},
   "source": [
    "### Anomaly Detection"
   ]
  },
  {
   "cell_type": "code",
   "execution_count": 225,
   "metadata": {},
   "outputs": [],
   "source": [
    "df.dropna(inplace=True)\n",
    "\n",
    "def anomaly_per_column(df, feature_name):\n",
    "\n",
    "    scaler = StandardScaler()\n",
    "    scaled_data = scaler.fit_transform(df[[feature_name]])\n",
    "\n",
    "    iso_forest = IsolationForest(contamination=0.001)\n",
    "    iso_forest.fit(scaled_data)\n",
    "\n",
    "    df['Anomaly'] = iso_forest.predict(scaled_data)\n",
    "    anomalies = df[df['Anomaly'] == -1]\n",
    "\n",
    "    return anomalies[[feature_name, 'Anomaly']]\n"
   ]
  },
  {
   "cell_type": "code",
   "execution_count": 226,
   "metadata": {},
   "outputs": [
    {
     "name": "stdout",
     "output_type": "stream",
     "text": [
      "Anomalies detected\n"
     ]
    },
    {
     "data": {
      "text/html": [
       "<div>\n",
       "<style scoped>\n",
       "    .dataframe tbody tr th:only-of-type {\n",
       "        vertical-align: middle;\n",
       "    }\n",
       "\n",
       "    .dataframe tbody tr th {\n",
       "        vertical-align: top;\n",
       "    }\n",
       "\n",
       "    .dataframe thead th {\n",
       "        text-align: right;\n",
       "    }\n",
       "</style>\n",
       "<table border=\"1\" class=\"dataframe\">\n",
       "  <thead>\n",
       "    <tr style=\"text-align: right;\">\n",
       "      <th></th>\n",
       "      <th>GDP</th>\n",
       "      <th>Anomaly</th>\n",
       "    </tr>\n",
       "  </thead>\n",
       "  <tbody>\n",
       "    <tr>\n",
       "      <th>50</th>\n",
       "      <td>362727300.0</td>\n",
       "      <td>-1</td>\n",
       "    </tr>\n",
       "  </tbody>\n",
       "</table>\n",
       "</div>"
      ],
      "text/plain": [
       "            GDP  Anomaly\n",
       "50  362727300.0       -1"
      ]
     },
     "execution_count": 226,
     "metadata": {},
     "output_type": "execute_result"
    }
   ],
   "source": [
    "anomalies = anomaly_per_column(df, 'GDP')\n",
    "if not anomalies.empty:\n",
    "    print(\"Anomalies detected\")\n",
    "else:\n",
    "    print(\"No anomalies detected.\")\n",
    "\n",
    "anomalies.head()\n"
   ]
  },
  {
   "cell_type": "code",
   "execution_count": 227,
   "metadata": {},
   "outputs": [
    {
     "name": "stdout",
     "output_type": "stream",
     "text": [
      "Anomalies detected\n"
     ]
    },
    {
     "data": {
      "text/html": [
       "<div>\n",
       "<style scoped>\n",
       "    .dataframe tbody tr th:only-of-type {\n",
       "        vertical-align: middle;\n",
       "    }\n",
       "\n",
       "    .dataframe tbody tr th {\n",
       "        vertical-align: top;\n",
       "    }\n",
       "\n",
       "    .dataframe thead th {\n",
       "        text-align: right;\n",
       "    }\n",
       "</style>\n",
       "<table border=\"1\" class=\"dataframe\">\n",
       "  <thead>\n",
       "    <tr style=\"text-align: right;\">\n",
       "      <th></th>\n",
       "      <th>GFCF</th>\n",
       "      <th>Anomaly</th>\n",
       "    </tr>\n",
       "  </thead>\n",
       "  <tbody>\n",
       "    <tr>\n",
       "      <th>70</th>\n",
       "      <td>75176200.0</td>\n",
       "      <td>-1</td>\n",
       "    </tr>\n",
       "  </tbody>\n",
       "</table>\n",
       "</div>"
      ],
      "text/plain": [
       "          GFCF  Anomaly\n",
       "70  75176200.0       -1"
      ]
     },
     "execution_count": 227,
     "metadata": {},
     "output_type": "execute_result"
    }
   ],
   "source": [
    "anomalies = anomaly_per_column(df, 'GFCF')\n",
    "if not anomalies.empty:\n",
    "    print(\"Anomalies detected\")\n",
    "else:\n",
    "    print(\"No anomalies detected.\")\n",
    "\n",
    "anomalies.head()"
   ]
  },
  {
   "cell_type": "code",
   "execution_count": 228,
   "metadata": {},
   "outputs": [
    {
     "name": "stdout",
     "output_type": "stream",
     "text": [
      "Anomalies detected\n"
     ]
    },
    {
     "data": {
      "text/html": [
       "<div>\n",
       "<style scoped>\n",
       "    .dataframe tbody tr th:only-of-type {\n",
       "        vertical-align: middle;\n",
       "    }\n",
       "\n",
       "    .dataframe tbody tr th {\n",
       "        vertical-align: top;\n",
       "    }\n",
       "\n",
       "    .dataframe thead th {\n",
       "        text-align: right;\n",
       "    }\n",
       "</style>\n",
       "<table border=\"1\" class=\"dataframe\">\n",
       "  <thead>\n",
       "    <tr style=\"text-align: right;\">\n",
       "      <th></th>\n",
       "      <th>ConsumerPrices</th>\n",
       "      <th>Anomaly</th>\n",
       "    </tr>\n",
       "  </thead>\n",
       "  <tbody>\n",
       "    <tr>\n",
       "      <th>86</th>\n",
       "      <td>7500.0</td>\n",
       "      <td>-1</td>\n",
       "    </tr>\n",
       "  </tbody>\n",
       "</table>\n",
       "</div>"
      ],
      "text/plain": [
       "    ConsumerPrices  Anomaly\n",
       "86          7500.0       -1"
      ]
     },
     "execution_count": 228,
     "metadata": {},
     "output_type": "execute_result"
    }
   ],
   "source": [
    "anomalies = anomaly_per_column(df, 'ConsumerPrices')\n",
    "if not anomalies.empty:\n",
    "    print(\"Anomalies detected\")\n",
    "else:\n",
    "    print(\"No anomalies detected.\")\n",
    "\n",
    "anomalies.head()"
   ]
  },
  {
   "cell_type": "code",
   "execution_count": 229,
   "metadata": {},
   "outputs": [
    {
     "name": "stdout",
     "output_type": "stream",
     "text": [
      "Anomalies detected\n"
     ]
    },
    {
     "data": {
      "text/html": [
       "<div>\n",
       "<style scoped>\n",
       "    .dataframe tbody tr th:only-of-type {\n",
       "        vertical-align: middle;\n",
       "    }\n",
       "\n",
       "    .dataframe tbody tr th {\n",
       "        vertical-align: top;\n",
       "    }\n",
       "\n",
       "    .dataframe thead th {\n",
       "        text-align: right;\n",
       "    }\n",
       "</style>\n",
       "<table border=\"1\" class=\"dataframe\">\n",
       "  <thead>\n",
       "    <tr style=\"text-align: right;\">\n",
       "      <th></th>\n",
       "      <th>UNEM</th>\n",
       "      <th>Anomaly</th>\n",
       "    </tr>\n",
       "  </thead>\n",
       "  <tbody>\n",
       "    <tr>\n",
       "      <th>106</th>\n",
       "      <td>3100.0</td>\n",
       "      <td>-1</td>\n",
       "    </tr>\n",
       "  </tbody>\n",
       "</table>\n",
       "</div>"
      ],
      "text/plain": [
       "       UNEM  Anomaly\n",
       "106  3100.0       -1"
      ]
     },
     "execution_count": 229,
     "metadata": {},
     "output_type": "execute_result"
    }
   ],
   "source": [
    "anomalies = anomaly_per_column(df, 'UNEM')\n",
    "if not anomalies.empty:\n",
    "    print(\"Anomalies detected\")\n",
    "else:\n",
    "    print(\"No anomalies detected.\")\n",
    "\n",
    "anomalies.head()\n"
   ]
  },
  {
   "cell_type": "code",
   "execution_count": 230,
   "metadata": {},
   "outputs": [
    {
     "name": "stdout",
     "output_type": "stream",
     "text": [
      "Anomalies detected\n"
     ]
    },
    {
     "data": {
      "text/html": [
       "<div>\n",
       "<style scoped>\n",
       "    .dataframe tbody tr th:only-of-type {\n",
       "        vertical-align: middle;\n",
       "    }\n",
       "\n",
       "    .dataframe tbody tr th {\n",
       "        vertical-align: top;\n",
       "    }\n",
       "\n",
       "    .dataframe thead th {\n",
       "        text-align: right;\n",
       "    }\n",
       "</style>\n",
       "<table border=\"1\" class=\"dataframe\">\n",
       "  <thead>\n",
       "    <tr style=\"text-align: right;\">\n",
       "      <th></th>\n",
       "      <th>GovExp</th>\n",
       "      <th>Anomaly</th>\n",
       "    </tr>\n",
       "  </thead>\n",
       "  <tbody>\n",
       "    <tr>\n",
       "      <th>117</th>\n",
       "      <td>91656800.0</td>\n",
       "      <td>-1</td>\n",
       "    </tr>\n",
       "  </tbody>\n",
       "</table>\n",
       "</div>"
      ],
      "text/plain": [
       "         GovExp  Anomaly\n",
       "117  91656800.0       -1"
      ]
     },
     "execution_count": 230,
     "metadata": {},
     "output_type": "execute_result"
    }
   ],
   "source": [
    "anomalies = anomaly_per_column(df, 'GovExp')\n",
    "if not anomalies.empty:\n",
    "    print(\"Anomalies detected\")\n",
    "else:\n",
    "    print(\"No anomalies detected.\")\n",
    "\n",
    "anomalies.head()\n"
   ]
  },
  {
   "cell_type": "code",
   "execution_count": 231,
   "metadata": {},
   "outputs": [
    {
     "name": "stdout",
     "output_type": "stream",
     "text": [
      "Anomalies detected\n"
     ]
    },
    {
     "data": {
      "text/html": [
       "<div>\n",
       "<style scoped>\n",
       "    .dataframe tbody tr th:only-of-type {\n",
       "        vertical-align: middle;\n",
       "    }\n",
       "\n",
       "    .dataframe tbody tr th {\n",
       "        vertical-align: top;\n",
       "    }\n",
       "\n",
       "    .dataframe thead th {\n",
       "        text-align: right;\n",
       "    }\n",
       "</style>\n",
       "<table border=\"1\" class=\"dataframe\">\n",
       "  <thead>\n",
       "    <tr style=\"text-align: right;\">\n",
       "      <th></th>\n",
       "      <th>HouseExp</th>\n",
       "      <th>Anomaly</th>\n",
       "    </tr>\n",
       "  </thead>\n",
       "  <tbody>\n",
       "    <tr>\n",
       "      <th>90</th>\n",
       "      <td>284187900.0</td>\n",
       "      <td>-1</td>\n",
       "    </tr>\n",
       "  </tbody>\n",
       "</table>\n",
       "</div>"
      ],
      "text/plain": [
       "       HouseExp  Anomaly\n",
       "90  284187900.0       -1"
      ]
     },
     "execution_count": 231,
     "metadata": {},
     "output_type": "execute_result"
    }
   ],
   "source": [
    "anomalies = anomaly_per_column(df, 'HouseExp')\n",
    "if not anomalies.empty:\n",
    "    print(\"Anomalies detected\")\n",
    "else:\n",
    "    print(\"No anomalies detected.\")\n",
    "\n",
    "anomalies.head()\n"
   ]
  },
  {
   "cell_type": "markdown",
   "metadata": {},
   "source": [
    "#### Correcting Anomalies"
   ]
  },
  {
   "cell_type": "code",
   "execution_count": 232,
   "metadata": {},
   "outputs": [],
   "source": [
    "df.loc[df['GDP'] == 362727300.0, 'GDP'] = 3627273.0\n",
    "df.loc[df['GFCF'] == 75176200.0, 'GFCF'] = 751762.0\n",
    "df.loc[df['ConsumerPrices'] == 7500.0, 'GFCF'] = 75.0\n",
    "df.loc[df['UNEM'] == 73100.0, 'UNEM'] = 31.0\n",
    "df.loc[df['GovExp'] == 91656800.0, 'GovExp'] = 916568.0\n",
    "df.loc[df['HouseExp'] == 284187900.0, 'HouseExp'] = 2841879.0"
   ]
  },
  {
   "cell_type": "markdown",
   "metadata": {},
   "source": [
    "### Handling Missing values"
   ]
  },
  {
   "cell_type": "markdown",
   "metadata": {},
   "source": [
    "Ideas\n",
    "\n",
    "Method 1: Drop missing values\n",
    "Method 2: Simple Imputation\n",
    "Method 3: Machine Learning Approach"
   ]
  },
  {
   "cell_type": "code",
   "execution_count": 233,
   "metadata": {},
   "outputs": [],
   "source": [
    "cleaned_df = df.dropna()"
   ]
  },
  {
   "cell_type": "code",
   "execution_count": 234,
   "metadata": {},
   "outputs": [
    {
     "data": {
      "text/plain": [
       "<Axes: >"
      ]
     },
     "execution_count": 234,
     "metadata": {},
     "output_type": "execute_result"
    },
    {
     "data": {
      "image/png": "[encoded data removed]",
      "text/plain": [
       "<Figure size 640x480 with 1 Axes>"
      ]
     },
     "metadata": {},
     "output_type": "display_data"
    }
   ],
   "source": [
    "dark_blue = '#003366'\n",
    "dark_grey = '#4d4d4d'\n",
    "\n",
    "\n",
    "custom_cmap = sns.color_palette([dark_blue, dark_grey])\n",
    "sns.heatmap(cleaned_df.isnull(), yticklabels=False, cbar=False, cmap=custom_cmap)"
   ]
  },
  {
   "cell_type": "markdown",
   "metadata": {},
   "source": [
    "### Converting Columns to Appropriate Type"
   ]
  },
  {
   "cell_type": "code",
   "execution_count": 235,
   "metadata": {},
   "outputs": [],
   "source": [
    "cleaned_df['Date'] = pd.to_datetime(df['Date'])"
   ]
  },
  {
   "cell_type": "code",
   "execution_count": 236,
   "metadata": {},
   "outputs": [
    {
     "name": "stdout",
     "output_type": "stream",
     "text": [
      "<class 'pandas.core.frame.DataFrame'>\n",
      "Index: 115 entries, 0 to 120\n",
      "Data columns (total 8 columns):\n",
      " #   Column          Non-Null Count  Dtype         \n",
      "---  ------          --------------  -----         \n",
      " 0   Date            115 non-null    datetime64[ns]\n",
      " 1   GDP             115 non-null    float64       \n",
      " 2   GFCF            115 non-null    float64       \n",
      " 3   UNEM            115 non-null    float64       \n",
      " 4   ConsumerPrices  115 non-null    float64       \n",
      " 5   GovExp          115 non-null    float64       \n",
      " 6   HouseExp        115 non-null    float64       \n",
      " 7   Anomaly         115 non-null    int32         \n",
      "dtypes: datetime64[ns](1), float64(6), int32(1)\n",
      "memory usage: 7.6 KB\n"
     ]
    }
   ],
   "source": [
    "cleaned_df.info()"
   ]
  },
  {
   "cell_type": "code",
   "execution_count": null,
   "metadata": {},
   "outputs": [],
   "source": []
  },
  {
   "cell_type": "markdown",
   "metadata": {},
   "source": [
    "# 3. Data Visualization"
   ]
  },
  {
   "cell_type": "code",
   "execution_count": 237,
   "metadata": {},
   "outputs": [
    {
     "data": {
      "application/vnd.jupyter.widget-view+json": {
       "model_id": "d72a43c26c8c4f5f8b5c8f603e3bc5a6",
       "version_major": 2,
       "version_minor": 0
      },
      "text/plain": [
       "Summarize dataset:   0%|          | 0/5 [00:00<?, ?it/s]"
      ]
     },
     "metadata": {},
     "output_type": "display_data"
    },
    {
     "data": {
      "application/vnd.jupyter.widget-view+json": {
       "model_id": "fe86003cab104314a4e7b8d612e3ad55",
       "version_major": 2,
       "version_minor": 0
      },
      "text/plain": [
       "Generate report structure:   0%|          | 0/1 [00:00<?, ?it/s]"
      ]
     },
     "metadata": {},
     "output_type": "display_data"
    },
    {
     "data": {
      "application/vnd.jupyter.widget-view+json": {
       "model_id": "68db80220072427fa08b75f1f69bafd2",
       "version_major": 2,
       "version_minor": 0
      },
      "text/plain": [
       "Render HTML:   0%|          | 0/1 [00:00<?, ?it/s]"
      ]
     },
     "metadata": {},
     "output_type": "display_data"
    },
    {
     "data": {
      "application/vnd.jupyter.widget-view+json": {
       "model_id": "7d8459d86cfd4318ad029c7afd937a8f",
       "version_major": 2,
       "version_minor": 0
      },
      "text/plain": [
       "Export report to file:   0%|          | 0/1 [00:00<?, ?it/s]"
      ]
     },
     "metadata": {},
     "output_type": "display_data"
    }
   ],
   "source": [
    "profile = ProfileReport(df, title=\"SARB\")\n",
    "profile.to_file(\"Viz.html\")"
   ]
  },
  {
   "cell_type": "markdown",
   "metadata": {},
   "source": [
    "## Univariate Analysis"
   ]
  },
  {
   "cell_type": "code",
   "execution_count": 238,
   "metadata": {},
   "outputs": [
    {
     "data": {
      "image/png": "[encoded data removed]",
      "text/plain": [
       "<Figure size 1500x800 with 1 Axes>"
      ]
     },
     "metadata": {},
     "output_type": "display_data"
    }
   ],
   "source": [
    "sns.set_style(\"whitegrid\")\n",
    "\n",
    "plt.figure(figsize=(15, 8))\n",
    "\n",
    "sns.lineplot(x='Date', y='GDP', data=df)\n",
    "\n",
    "plt.title('GDP Over Time', fontsize=16)\n",
    "plt.xlabel('Date', fontsize=14)\n",
    "plt.ylabel('GDP', fontsize=14)\n",
    "\n",
    "plt.show()"
   ]
  },
  {
   "cell_type": "code",
   "execution_count": null,
   "metadata": {},
   "outputs": [],
   "source": []
  }
 ],
 "metadata": {
  "kernelspec": {
   "display_name": "Python 3",
   "language": "python",
   "name": "python3"
  },
  "language_info": {
   "codemirror_mode": {
    "name": "ipython",
    "version": 3
   },
   "file_extension": ".py",
   "mimetype": "text/x-python",
   "name": "python",
   "nbconvert_exporter": "python",
   "pygments_lexer": "ipython3",
   "version": "3.12.5"
  }
 },
 "nbformat": 4,
 "nbformat_minor": 2
}
